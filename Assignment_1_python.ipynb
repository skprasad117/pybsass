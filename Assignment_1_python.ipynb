{
 "cells": [
  {
   "cell_type": "markdown",
   "id": "1bd768ab",
   "metadata": {},
   "source": [
    "### ASSIGNMENT 1"
   ]
  },
  {
   "cell_type": "markdown",
   "id": "301688f8",
   "metadata": {},
   "source": [
    "### Q1. In the below elements which of them are values or an expression? \n",
    "###     eg:- values can be integer or string and expressions will be mathematical operators.\n",
    "### *, 'hello', -87.8, -, /, +, 6"
   ]
  },
  {
   "cell_type": "markdown",
   "id": "0e224a2d",
   "metadata": {},
   "source": [
    "#### ANS :-"
   ]
  },
  {
   "cell_type": "raw",
   "id": "b69c3527",
   "metadata": {},
   "source": [
    "Values : 'hello' , -87.8, 6\n",
    "Expressions : * , - , / , +"
   ]
  },
  {
   "cell_type": "markdown",
   "id": "75a1562a",
   "metadata": {},
   "source": [
    "### Q2. What is the difference between string and variable?"
   ]
  },
  {
   "cell_type": "markdown",
   "id": "e8901636",
   "metadata": {},
   "source": [
    "### Ans:-"
   ]
  },
  {
   "cell_type": "markdown",
   "id": "0c8ed41b",
   "metadata": {},
   "source": [
    "#### String :"
   ]
  },
  {
   "cell_type": "raw",
   "id": "c2be6038",
   "metadata": {},
   "source": [
    "String is a datatype in python which is use for values that are series of characters, which can be accessed by using indexing and are immutable. It can be defined either by using single or double quotation mark.\n",
    "       for eg : \n",
    "            a = \"hi i am a string\"\n"
   ]
  },
  {
   "cell_type": "markdown",
   "id": "b4ddc2fc",
   "metadata": {},
   "source": [
    "#### Variable :"
   ]
  },
  {
   "cell_type": "markdown",
   "id": "b68b1cb0",
   "metadata": {},
   "source": [
    "Variables are use to store data, they are reserved memory locations and can be assigned any legal name for refrence."
   ]
  },
  {
   "cell_type": "markdown",
   "id": "d9d57f78",
   "metadata": {},
   "source": [
    "### Q3 Describe three different data types."
   ]
  },
  {
   "cell_type": "markdown",
   "id": "dcf44309",
   "metadata": {},
   "source": [
    "#### ANS"
   ]
  },
  {
   "cell_type": "markdown",
   "id": "9b911734",
   "metadata": {},
   "source": [
    "Float : Float are use to store floating types values (having decimal part)\n",
    "              e.g. f = 4.56"
   ]
  },
  {
   "cell_type": "markdown",
   "id": "8edab0da",
   "metadata": {},
   "source": [
    "Tuples : Tuples are use to store multiple data of diffrent data types under single variable. They are immutable.\n",
    "              e.g. t=(4,5,6,\"sanjay\",45.685, True)\n",
    "         "
   ]
  },
  {
   "cell_type": "markdown",
   "id": "677cf226",
   "metadata": {},
   "source": [
    "Dictionary : Dictinoray in python is a collection of data as key value pair.\n",
    "              e.g. d = {\"key1\" : \" value1\" , \"key2\" : \"value2\"}"
   ]
  },
  {
   "cell_type": "markdown",
   "id": "a38c8502",
   "metadata": {},
   "source": [
    "### Q4. What is an expression made up of? What do all expressions do?"
   ]
  },
  {
   "cell_type": "markdown",
   "id": "74ad5092",
   "metadata": {},
   "source": [
    "#### ANS"
   ]
  },
  {
   "cell_type": "code",
   "execution_count": null,
   "id": "2b560018",
   "metadata": {},
   "outputs": [],
   "source": [
    "In python expression can be defined as any element in program that returns to some value."
   ]
  },
  {
   "cell_type": "markdown",
   "id": "f30dc87d",
   "metadata": {},
   "source": [
    "### Q5. This assignment statements, like spam = 10. What is the difference between an expression and a statement?"
   ]
  },
  {
   "cell_type": "code",
   "execution_count": null,
   "id": "5a06bef6",
   "metadata": {},
   "outputs": [],
   "source": [
    "Expression : In python expression can be defined as any element in program that returns to some value.\n",
    "    e.g. \"sanjay\" + \"prasad\" , 8 + 10, 4  "
   ]
  },
  {
   "cell_type": "markdown",
   "id": "da45b282",
   "metadata": {},
   "source": [
    "Statement: Python statement is made up of one or more python expressions. Statement represent action or command, statement never returns values.\n",
    "    e.g. a = 4, loops, def etc. "
   ]
  },
  {
   "cell_type": "markdown",
   "id": "f64cc2ba",
   "metadata": {},
   "source": [
    "### Q6. After running the following code, what does the variable bacon contain?\n",
    "### bacon = 22\n",
    "### bacon + 1"
   ]
  },
  {
   "cell_type": "markdown",
   "id": "18ea4c14",
   "metadata": {},
   "source": [
    "### Ans"
   ]
  },
  {
   "cell_type": "code",
   "execution_count": null,
   "id": "5cc4debf",
   "metadata": {},
   "outputs": [],
   "source": [
    "It will contain 22 because the operations are not assigning new value in the original varible 'bacon'."
   ]
  },
  {
   "cell_type": "code",
   "execution_count": 12,
   "id": "25fb470f",
   "metadata": {},
   "outputs": [
    {
     "data": {
      "text/plain": [
       "23"
      ]
     },
     "execution_count": 12,
     "metadata": {},
     "output_type": "execute_result"
    }
   ],
   "source": [
    "bacon =22\n",
    "bacon + 1"
   ]
  },
  {
   "cell_type": "code",
   "execution_count": 13,
   "id": "fe337a3c",
   "metadata": {},
   "outputs": [
    {
     "data": {
      "text/plain": [
       "22"
      ]
     },
     "execution_count": 13,
     "metadata": {},
     "output_type": "execute_result"
    }
   ],
   "source": [
    "bacon"
   ]
  },
  {
   "cell_type": "markdown",
   "id": "a392e73f",
   "metadata": {},
   "source": [
    "### Q7. What should the values of the following two terms be?\n",
    "### 'spam' + 'spamspam'\n",
    "### 'spam' * 3"
   ]
  },
  {
   "cell_type": "code",
   "execution_count": 14,
   "id": "8d87b63f",
   "metadata": {},
   "outputs": [
    {
     "data": {
      "text/plain": [
       "'spamspamspam'"
      ]
     },
     "execution_count": 14,
     "metadata": {},
     "output_type": "execute_result"
    }
   ],
   "source": [
    "'spam' + 'spamspam'"
   ]
  },
  {
   "cell_type": "code",
   "execution_count": 15,
   "id": "547e6d36",
   "metadata": {},
   "outputs": [
    {
     "data": {
      "text/plain": [
       "'spamspamspam'"
      ]
     },
     "execution_count": 15,
     "metadata": {},
     "output_type": "execute_result"
    }
   ],
   "source": [
    "'spam' *3"
   ]
  },
  {
   "cell_type": "markdown",
   "id": "d69b746b",
   "metadata": {},
   "source": [
    "### 8. Why is eggs a valid variable name while 100 is invalid?"
   ]
  },
  {
   "cell_type": "markdown",
   "id": "f6c30991",
   "metadata": {},
   "source": [
    "#### ANS :-"
   ]
  },
  {
   "cell_type": "markdown",
   "id": "6d4c7450",
   "metadata": {},
   "source": [
    "In python there are rule for defining variable name.\n",
    " - Variable must start with a letter or underscore\n",
    " - Variable cannot start with a number.\n",
    " - It can only contain alphanurmeric character and undercore.\n",
    " - It should not be a python keyword.\n",
    "\n",
    "So According to the rules Eggs is a valid variable name and 100 is invalid variable name because its starting with a number instead of letter or underscore.\n"
   ]
  },
  {
   "cell_type": "markdown",
   "id": "b8b74db2",
   "metadata": {},
   "source": [
    "### Q9. What three functions can be used to get the integer, floating-point number, or string version of a value?"
   ]
  },
  {
   "cell_type": "markdown",
   "id": "134d34b3",
   "metadata": {},
   "source": [
    "#### ANS"
   ]
  },
  {
   "cell_type": "markdown",
   "id": "4149627f",
   "metadata": {},
   "source": [
    "int(),float(), str() "
   ]
  },
  {
   "cell_type": "markdown",
   "id": "8dec4556",
   "metadata": {},
   "source": [
    "### Q10. Why does this expression cause an error? How can you fix it?\n",
    "### 'I have eaten' + 99 + 'burritos.'"
   ]
  },
  {
   "cell_type": "markdown",
   "id": "6e3dd822",
   "metadata": {},
   "source": [
    "### Ans"
   ]
  },
  {
   "cell_type": "markdown",
   "id": "6cc4686d",
   "metadata": {},
   "source": [
    "Its an invalied operation coz strings can't concatenated with int. in the expression 99 is an int type value and rest are strings."
   ]
  },
  {
   "cell_type": "markdown",
   "id": "f6e83479",
   "metadata": {},
   "source": [
    "For this to happen the each part of the expression must be of similar data type and this can be done with type casting"
   ]
  },
  {
   "cell_type": "markdown",
   "id": "b6596842",
   "metadata": {},
   "source": [
    "                                'I have eaten' + str(99) + 'burritos.'"
   ]
  },
  {
   "cell_type": "code",
   "execution_count": 20,
   "id": "8d66f1f9",
   "metadata": {},
   "outputs": [
    {
     "data": {
      "text/plain": [
       "'I have eaten99burritos.'"
      ]
     },
     "execution_count": 20,
     "metadata": {},
     "output_type": "execute_result"
    }
   ],
   "source": [
    "'I have eaten' + str(99) + 'burritos.'"
   ]
  }
 ],
 "metadata": {
  "kernelspec": {
   "display_name": "Python 3 (ipykernel)",
   "language": "python",
   "name": "python3"
  },
  "language_info": {
   "codemirror_mode": {
    "name": "ipython",
    "version": 3
   },
   "file_extension": ".py",
   "mimetype": "text/x-python",
   "name": "python",
   "nbconvert_exporter": "python",
   "pygments_lexer": "ipython3",
   "version": "3.9.12"
  }
 },
 "nbformat": 4,
 "nbformat_minor": 5
}
